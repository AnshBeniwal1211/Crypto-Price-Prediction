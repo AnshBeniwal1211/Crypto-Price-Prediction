{
 "cells": [
  {
   "cell_type": "code",
   "execution_count": null,
   "metadata": {},
   "outputs": [],
   "source": [
    "import os, logging, shutil\n",
    "import urllib.request\n",
    "from datetime import date, datetime, timedelta, timezone\n",
    "import numpy as np\n",
    "import pandas as pd\n",
    "from sklearn.model_selection import train_test_split\n",
    "from sklearn.linear_model import LinearRegression\n",
    "from sklearn.metrics import mean_squared_error, r2_score\n",
    "\n",
    "\n",
    "config = {'study': 1,  \n",
    "          'symbol':'BTCUSDT',\n",
    "          'date':240901 } # YYMMDD\n",
    "\n",
    "logging.basicConfig(level=logging.INFO, format='[%(asctime)s %(levelname)s %(lineno)d] %(message)s', datefmt='%Y-%m-%d %H:%M:%S')\n",
    "\n",
    "root = os.getenv('MY_ROOT', os.getcwd())\n",
    "study_dir = os.path.join(root, '_study/{}'.format(config['study']))\n",
    "os.makedirs(study_dir, exist_ok=True)\n",
    "#print(study_dir)\n",
    "\n",
    "dt = datetime.strptime(str(config['date']), '%y%m%d')\n",
    "\n",
    "pd.options.display.expand_frame_repr = False\n",
    "\n",
    "indicators = []\n",
    "outs = []"
   ]
  },
  {
   "cell_type": "code",
   "execution_count": null,
   "metadata": {},
   "outputs": [],
   "source": [
    "# Download historic data.\n",
    "# Skip if already downloaded.\n",
    "url = 'https://data.binance.vision/data/spot/monthly/klines/{}/1s/{}-1s-{}-{:02}.zip'.format(config['symbol'], config['symbol'], dt.year, dt.month)\n",
    "zipfile = '{}/download.zip'.format(study_dir)\n",
    "csvfile = '{}/download/{}-1s-{}-{:02}.csv'.format(study_dir, config['symbol'], dt.year, dt.month)\n",
    "if not os.path.exists(csvfile):\n",
    "    urllib.request.urlretrieve(url, zipfile)\n",
    "    shutil.unpack_archive(zipfile, '{}/download'.format(study_dir))\n",
    "if not os.path.exists(csvfile):\n",
    "    raise Exception('Missing {}'.format(csvfile)) \n",
    "\n",
    "df = pd.read_csv(csvfile, names='open_time open high low close volume close_time quote_volume count taker_buy_volume taker_buy_quote_volume ignore'.split())\n",
    "#display(df)\n",
    "#print(len(df.close))"
   ]
  },
  {
   "cell_type": "code",
   "execution_count": null,
   "metadata": {},
   "outputs": [],
   "source": [
    "# Prepare data\n",
    "df['time'] = pd.to_datetime(df['close_time'], unit='ms')\n",
    "df = df.set_index('time', drop=False)   # pandas time based windowing needs time index\n",
    "df['prev_close'] = df['close'].shift(1)\n",
    "df['ret'] = (df.close - df.prev_close) * 10000 / df.prev_close\n",
    "#df['ret'] = np.log(df.close/df.prev_close)\n",
    "\n",
    "# Set targets/outs\n",
    "#for i in range(10, 100, 10):\n",
    "for i in range(1, 6, 2):\n",
    "    out = 'out{}'.format(i)\n",
    "    outs.append(out)\n",
    "    out_close = df.close.shift(-i)\n",
    "    val = ((out_close - df.close) * 10000/ df.close)    # Return in basis points (bps)\n",
    "    df[out] = val\n",
    "    #df[out] = np.sign(val) * (np.log(np.abs(val) + 1))\n",
    "    #std = val.rolling(window=10).std()\n",
    "    #df[out] = np.where(std == 0, val, val / std)\n",
    "    #df[out] = np.sign(val) * (np.sqrt(np.abs(val) + 1) - 1)\n",
    "#display(df)\n"
   ]
  },
  {
   "cell_type": "code",
   "execution_count": null,
   "metadata": {},
   "outputs": [],
   "source": [
    "# Add Indicators/Features\n",
    "# Compare taker trades on each side, within an expotential moving window.\n",
    "for i in range(1, 20, 2):\n",
    "    span = i\n",
    "    ind = 'ind_trade_side_{}'.format(span)\n",
    "    indicators.append(ind)\n",
    "    b = df.taker_buy_volume.ewm(span=span).mean()\n",
    "    s = (df.volume - df.taker_buy_volume).ewm(span=span).mean()\n",
    "    df[ind] = np.where(b + s == 0, 0, (b - s) * 2 / (b + s))  \n",
    "#df.tail(20)"
   ]
  },
  {
   "cell_type": "code",
   "execution_count": null,
   "metadata": {},
   "outputs": [],
   "source": [
    "# Add Indicators/Features\n",
    "# Compare price to its bollinger bands i.e. 2 standard deviation away from mean, for a rolling window.\n",
    "for i in range(2, 20, 2):\n",
    "#for i in [1]:\n",
    "    window = i\n",
    "    ind = 'ind_bollinger_{}'.format(window)\n",
    "    indicators.append(ind)\n",
    "    rolling = df.close.rolling(window=window)\n",
    "    mean = rolling.mean()\n",
    "    std = rolling.std()\n",
    "    # zero from mean to (mean + std) then peaks at (mean + 2*std)\n",
    "    df[ind] = np.select([std == 0, df.close >= mean, df.close < mean], [0, np.maximum(1 - np.abs(df.close - (mean + 2 * std)) / std, 0), -1 * np.maximum(1 - np.abs(df.close - (mean - 2 * std)) / std, 0)], 0)  \n",
    "    #df[ind] = np.select([std == 0], [0], (df.close - mean) / std)  \n",
    "#df.tail(20)"
   ]
  },
  {
   "cell_type": "code",
   "execution_count": null,
   "metadata": {},
   "outputs": [],
   "source": [
    "# Add Indicators/Features\n",
    "# https://technical-analysis-library-in-python.readthedocs.io/en/latest/index.html\n",
    "# RSI \n",
    "import ta.momentum\n",
    "for i in range(2, 20, 2):\n",
    "    window = i\n",
    "    ind = 'ind_rsi_{}'.format(window)\n",
    "    indicators.append(ind)\n",
    "    df[ind] = (ta.momentum.RSIIndicator(df.close, window=window).rsi() - 50) / 50\n",
    "#df.tail(20)"
   ]
  },
  {
   "cell_type": "code",
   "execution_count": null,
   "metadata": {},
   "outputs": [],
   "source": [
    "# Add Indicators/Features\n",
    "# Previous returns.\n",
    "for i in range(0, 10):\n",
    "    ind = 'ind_ret_{}'.format(i)\n",
    "    indicators.append(ind)\n",
    "    df[ind] = df.ret.shift(i)\n",
    "#df.tail(20)"
   ]
  },
  {
   "cell_type": "code",
   "execution_count": null,
   "metadata": {},
   "outputs": [],
   "source": [
    "# Add Indicators/Features\n",
    "# How much does price move per trade volume. Compare that value for short and long windows.\n",
    "for i in range(1, 20, 2):\n",
    "#for i in range(10, 100, 10):\n",
    "    sw = i\n",
    "    lw = i * 5\n",
    "    ind = 'ind_move_per_trade_{}'.format(i)\n",
    "    indicators.append(ind)\n",
    "    sum_sw = df.volume.rolling(window=sw).sum() \n",
    "    avg_sw =  np.divide(df.close - df.close.shift(sw), sum_sw, where=sum_sw!=0, out=np.zeros_like(sum_sw))\n",
    "    sum_lw = df.volume.rolling(window=lw).sum() \n",
    "    avg_lw =  np.divide(df.close - df.close.shift(lw), sum_lw, where=sum_lw!=0, out=np.zeros_like(sum_lw))\n",
    "    val = np.divide(avg_sw, np.abs(avg_lw), where=avg_lw!=0, out=np.zeros_like(avg_lw))\n",
    "    df[ind] = val\n",
    "#df.tail(20)"
   ]
  },
  {
   "cell_type": "code",
   "execution_count": null,
   "metadata": {},
   "outputs": [],
   "source": [
    "# Check corr\n",
    "# High correlation between an indicators and target/out is better. \n",
    "# df[indicators + outs].corr()"
   ]
  },
  {
   "cell_type": "code",
   "execution_count": null,
   "metadata": {},
   "outputs": [],
   "source": [
    "# Check for unexpected NaN values before dropping\n",
    "nasum = df.isna().sum()\n",
    "print(nasum.loc[nasum > 10])"
   ]
  },
  {
   "cell_type": "code",
   "execution_count": null,
   "metadata": {},
   "outputs": [],
   "source": [
    "# Build models\n",
    "# For each target/out. Later we will pick best performing model among these.\n",
    "\n",
    "# Drop NaN values for model. LinearRegression does not accept NaN.\n",
    "df = df.dropna()\n",
    "# Define features\n",
    "X = df[indicators]\n",
    "\n",
    "models = pd.DataFrame(columns=['out', 'mse', 'r2', 'model'])\n",
    "for out in outs:\n",
    "    # Define target\n",
    "    y = df[out]\n",
    "    # Split data into training and testing sets\n",
    "    X_train, X_test, y_train, y_test = train_test_split(X, y, test_size=0.2, random_state=42)\n",
    "\n",
    "    # Initialize and train the model\n",
    "    model = LinearRegression()\n",
    "    model.fit(X_train, y_train)\n",
    "    # Make predictions\n",
    "    predictions = model.predict(X_test)\n",
    "    # Evaluate the model\n",
    "    mse = mean_squared_error(y_test, predictions)\n",
    "    r2 = r2_score(y_test, predictions)\n",
    "    models.loc[out] = [out, mse, r2, model]\n",
    "    #print(pd.DataFrame([model.coef_, model.feature_names_in_]))\n",
    "print(models)"
   ]
  },
  {
   "cell_type": "code",
   "execution_count": null,
   "metadata": {},
   "outputs": [],
   "source": [
    "# Pick model with best score\n",
    "model = models.sort_values(by='r2', ascending=False).iloc[0]\n",
    "print(model)\n",
    "\n",
    "# Add final signal/prediction\n",
    "df['signal'] = model['model'].predict(X)"
   ]
  },
  {
   "cell_type": "code",
   "execution_count": null,
   "metadata": {},
   "outputs": [],
   "source": [
    "# Simulate trading strategy for pnl (profit and loss).\n",
    "# Try out different thresold values for entry/exit. \n",
    "# Then, pick the best performing threshold over training data set. Finally run that on test set.\n",
    "\n",
    "df_train, df_test = train_test_split(df, test_size=0.5, shuffle=False)      # TODO: do not test on data with which model was build. \n",
    "\n",
    "def simulate(df_run, threshold):\n",
    "    # Trading Strategy\n",
    "    cost_bps = 0.5 \n",
    "    balance = 0\n",
    "    position = 0  # Number of shares\n",
    "    turnover = 0\n",
    "    qty = 1\n",
    "    for i in range(len(df_run.index)):\n",
    "        price = df_run.close.iloc[i]\n",
    "        signal = df_run.signal.iloc[i]    \n",
    "\n",
    "        if signal > threshold and position <= 0:\n",
    "            position += qty\n",
    "            balance -= qty * price\n",
    "            balance -= qty * price * cost_bps / 10000\n",
    "            turnover += qty * price\n",
    "            #print(f\"Buying {qty} at {price:.2f}\")\n",
    "        elif signal < -1 * threshold and position >= 0:\n",
    "            # Sell stock\n",
    "            position -= qty \n",
    "            balance += qty * price\n",
    "            balance -= (qty * price) * cost_bps / 10000\n",
    "            turnover += qty * price\n",
    "            #print(f\"Selling {qty} shares at {price:.2f}\")\n",
    "    pnl = balance + (position * df_run.close.iloc[-1])\n",
    "    pnl_bps = pnl * 10000 / turnover\n",
    "    print(f'debug: simulate threshold: {threshold} pnl: {pnl:.2f} pnl_bps: {pnl_bps:.2f}')\n",
    "    return pnl_bps\n",
    "\n",
    "\n",
    "thresholds = pd.DataFrame()\n",
    "thresholds['threshold'] = np.multiply([0.5, 1, 1.5, 2], df_train.signal.std())\n",
    "thresholds['pnl_bps'] = thresholds.apply(lambda row: simulate(df_train, row.threshold), axis=1)\n",
    "print(thresholds)\n"
   ]
  },
  {
   "cell_type": "code",
   "execution_count": null,
   "metadata": {},
   "outputs": [],
   "source": [
    "# Pick threshold with highest pnl in training\n",
    "threshold = thresholds.sort_values(by='pnl_bps', ascending=False).iloc[0]\n",
    "print('\\nPicked (train data):')\n",
    "print(threshold)\n",
    "print()\n",
    "\n",
    "# Run sim on test data\n",
    "pnl_bps = simulate(df_test, threshold['threshold'])\n",
    "print(f'\\npnl_bps (test data): {pnl_bps:.2f}')"
   ]
  }
 ],
 "metadata": {
  "kernelspec": {
   "display_name": ".venv",
   "language": "python",
   "name": "python3"
  },
  "language_info": {
   "codemirror_mode": {
    "name": "ipython",
    "version": 3
   },
   "file_extension": ".py",
   "mimetype": "text/x-python",
   "name": "python",
   "nbconvert_exporter": "python",
   "pygments_lexer": "ipython3",
   "version": "3.12.7"
  }
 },
 "nbformat": 4,
 "nbformat_minor": 2
}
